{
 "cells": [
  {
   "cell_type": "code",
   "execution_count": 1,
   "metadata": {},
   "outputs": [
    {
     "data": {
      "text/plain": [
       "'app.ipynb'"
      ]
     },
     "execution_count": 1,
     "metadata": {},
     "output_type": "execute_result"
    }
   ],
   "source": [
    "\"app.ipynb\""
   ]
  },
  {
   "cell_type": "code",
   "execution_count": 1,
   "metadata": {},
   "outputs": [],
   "source": [
    "# %pip install selenium bs4"
   ]
  },
  {
   "cell_type": "code",
   "execution_count": 13,
   "metadata": {},
   "outputs": [],
   "source": [
    "import time\n",
    "import traceback\n",
    "from selenium import webdriver\n",
    "from selenium.webdriver.common.by import By\n",
    "from selenium.webdriver.common.keys import Keys\n",
    "from selenium.webdriver.chrome.service import Service\n",
    "from selenium.webdriver.common.action_chains import ActionChains\n",
    "from bs4 import BeautifulSoup"
   ]
  },
  {
   "cell_type": "code",
   "execution_count": 3,
   "metadata": {},
   "outputs": [],
   "source": [
    "# Set up Selenium WebDriver\n",
    "chromedriver_path = \"./chromedriver-32.exe\"\n",
    "service = Service(chromedriver_path)\n",
    "\n",
    "# Set the path to the Portable Chrome executable\n",
    "chrome_exe_path = \"./chrome-win32/chrome.exe\"\n",
    "chrome_options = webdriver.ChromeOptions()\n",
    "chrome_options.binary_location = chrome_exe_path\n",
    "# chrome_options.add_argument('--headless')\n",
    "chrome_options.add_argument('--disable-dev-shm-usage')\n",
    "# chrome_options.add_argument(\"--blink-settings=imagesEnabled=false\")\n",
    "\n",
    "driver = webdriver.Chrome(service=service, options=chrome_options)"
   ]
  },
  {
   "cell_type": "code",
   "execution_count": 4,
   "metadata": {},
   "outputs": [],
   "source": [
    "# for start_url in START_URL_LIST:\n",
    "start_url = \"https://www.plugandplaytechcenter.com/innovation-services/startups/our-startups\"\n",
    "industries = [\n",
    "    \"Advanced Manufacturing\",\n",
    "    \"Aerospace & Defense\",\n",
    "    \"Agtech\",\n",
    "    \"Deeptech\",\n",
    "    \"Energy\",\n",
    "    \"Maritime\",\n",
    "    \"Mobility\",\n",
    "    \"New Materials & Packaging\",\n",
    "    \"Semiconductors\",\n",
    "    \"Smart Cities\",\n",
    "    \"Sustainability\"\n",
    "]"
   ]
  },
  {
   "cell_type": "code",
   "execution_count": 5,
   "metadata": {},
   "outputs": [],
   "source": [
    "driver.get(start_url)\n",
    "time.sleep(3)"
   ]
  },
  {
   "cell_type": "code",
   "execution_count": 6,
   "metadata": {},
   "outputs": [],
   "source": [
    "driver.find_element(By.CSS_SELECTOR, \"button#onetrust-accept-btn-handler\").click()\n",
    "time.sleep(1)"
   ]
  },
  {
   "cell_type": "code",
   "execution_count": 7,
   "metadata": {},
   "outputs": [],
   "source": [
    "otherLinks = []"
   ]
  },
  {
   "cell_type": "code",
   "execution_count": 8,
   "metadata": {},
   "outputs": [],
   "source": [
    "# for industry in industries:\n",
    "industry = industries[0]"
   ]
  },
  {
   "cell_type": "code",
   "execution_count": 11,
   "metadata": {},
   "outputs": [],
   "source": [
    "industries_dropdown = driver.find_element(By.CSS_SELECTOR, \"select#cbxIndustries\")"
   ]
  },
  {
   "cell_type": "code",
   "execution_count": 12,
   "metadata": {},
   "outputs": [],
   "source": [
    "industries_dropdown.click()"
   ]
  },
  {
   "cell_type": "code",
   "execution_count": 16,
   "metadata": {},
   "outputs": [],
   "source": [
    "industries_dropdown.send_keys(Keys.ARROW_DOWN)"
   ]
  },
  {
   "cell_type": "code",
   "execution_count": 17,
   "metadata": {},
   "outputs": [],
   "source": [
    "industries_dropdown.send_keys(Keys.ENTER)"
   ]
  },
  {
   "cell_type": "code",
   "execution_count": 26,
   "metadata": {},
   "outputs": [],
   "source": [
    "# Get from List\n",
    "option = options[26]"
   ]
  },
  {
   "cell_type": "code",
   "execution_count": 27,
   "metadata": {},
   "outputs": [],
   "source": [
    "option.click()"
   ]
  },
  {
   "cell_type": "code",
   "execution_count": 28,
   "metadata": {},
   "outputs": [],
   "source": [
    "industries_dropdown.click()"
   ]
  },
  {
   "cell_type": "code",
   "execution_count": 38,
   "metadata": {},
   "outputs": [
    {
     "data": {
      "text/plain": [
       "['https://www.plugandplaytechcenter.com/startup/resultid-ai',\n",
       " 'https://www.plugandplaytechcenter.com/startup/finmont-com',\n",
       " 'https://www.plugandplaytechcenter.com/startup/acaitravel-com',\n",
       " 'https://www.plugandplaytechcenter.com/startup/trybadge-com',\n",
       " 'https://www.plugandplaytechcenter.com/startup/oloid-ai',\n",
       " 'https://www.plugandplaytechcenter.com/startup/aphy-com',\n",
       " 'https://www.plugandplaytechcenter.com/startup/blackferndata-com',\n",
       " 'https://www.plugandplaytechcenter.com/startup/dispel-com',\n",
       " 'https://www.plugandplaytechcenter.com/startup/goportier-com',\n",
       " 'https://www.plugandplaytechcenter.com/startup/mybookingpal-com',\n",
       " 'https://www.plugandplaytechcenter.com/startup/getflip-com',\n",
       " 'https://www.plugandplaytechcenter.com/startup/10adventures-com',\n",
       " 'https://www.plugandplaytechcenter.com/startup/adventurebucketlist-com',\n",
       " 'https://www.plugandplaytechcenter.com/startup/beyondpricing-com',\n",
       " 'https://www.plugandplaytechcenter.com/startup/skyselect-com',\n",
       " 'https://www.plugandplaytechcenter.com/startup/eversnapapp-com',\n",
       " 'https://www.plugandplaytechcenter.com/startup/springshot-com',\n",
       " 'https://www.plugandplaytechcenter.com/startup/remote-it',\n",
       " 'https://www.plugandplaytechcenter.com/startup/getflip-com',\n",
       " 'https://www.plugandplaytechcenter.com/startup/blackferndata-com',\n",
       " 'https://www.plugandplaytechcenter.com/startup/resultid-ai',\n",
       " 'https://www.plugandplaytechcenter.com/startup/finmont-com',\n",
       " 'https://www.plugandplaytechcenter.com/startup/acaitravel-com',\n",
       " 'https://www.plugandplaytechcenter.com/startup/trybadge-com',\n",
       " 'https://www.plugandplaytechcenter.com/startup/oloid-ai',\n",
       " 'https://www.plugandplaytechcenter.com/startup/aphy-com',\n",
       " 'https://www.plugandplaytechcenter.com/startup/dispel-com',\n",
       " 'https://www.plugandplaytechcenter.com/startup/getpebby-com',\n",
       " 'https://www.plugandplaytechcenter.com/startup/hygiea-tech',\n",
       " 'https://www.plugandplaytechcenter.com/startup/woobo-io',\n",
       " 'https://www.plugandplaytechcenter.com/startup/newwavefoods-com',\n",
       " 'https://www.plugandplaytechcenter.com/startup/resec-co',\n",
       " 'https://www.plugandplaytechcenter.com/startup/slice-is',\n",
       " 'https://www.plugandplaytechcenter.com/startup/aifi-io',\n",
       " 'https://www.plugandplaytechcenter.com/startup/cobalt-io',\n",
       " 'https://www.plugandplaytechcenter.com/startup/i2x-ai',\n",
       " 'https://www.plugandplaytechcenter.com/startup/joinsherpa-com',\n",
       " 'https://www.plugandplaytechcenter.com/startup/stridetravel-com',\n",
       " 'https://www.plugandplaytechcenter.com/startup/nethone-com',\n",
       " 'https://www.plugandplaytechcenter.com/startup/airkit-com',\n",
       " 'https://www.plugandplaytechcenter.com/startup/secberus-com',\n",
       " 'https://www.plugandplaytechcenter.com/startup/personifyxp-com',\n",
       " 'https://www.plugandplaytechcenter.com/startup/appboxo-com',\n",
       " 'https://www.plugandplaytechcenter.com/startup/wavescan-sg',\n",
       " 'https://www.plugandplaytechcenter.com/startup/gowheeltheworld-com',\n",
       " 'https://www.plugandplaytechcenter.com/startup/octane11-com',\n",
       " 'https://www.plugandplaytechcenter.com/startup/zytlyn-com',\n",
       " 'https://www.plugandplaytechcenter.com/startup/neoke-com',\n",
       " 'https://www.plugandplaytechcenter.com/startup/breinify-com',\n",
       " 'https://www.plugandplaytechcenter.com/startup/commerce-ai',\n",
       " 'https://www.plugandplaytechcenter.com/startup/knightscope-com',\n",
       " 'https://www.plugandplaytechcenter.com/startup/mozio-com',\n",
       " 'https://www.plugandplaytechcenter.com/startup/openlegacy-com',\n",
       " 'https://www.plugandplaytechcenter.com/startup/inhovate-com',\n",
       " 'https://www.plugandplaytechcenter.com/startup/sarus-tech',\n",
       " 'https://www.plugandplaytechcenter.com/startup/thrustcarbon-com',\n",
       " 'https://www.plugandplaytechcenter.com/startup/hotelverse-tech',\n",
       " 'https://www.plugandplaytechcenter.com/startup/swaypay-io',\n",
       " 'https://www.plugandplaytechcenter.com/startup/thinklumo-com',\n",
       " 'https://www.plugandplaytechcenter.com/startup/liberio-io',\n",
       " 'https://www.plugandplaytechcenter.com/startup/idelic-com',\n",
       " 'https://www.plugandplaytechcenter.com/startup/prevedere-com',\n",
       " 'https://www.plugandplaytechcenter.com/startup/rwazi-com',\n",
       " 'https://www.plugandplaytechcenter.com/startup/taloflow-ai',\n",
       " 'https://www.plugandplaytechcenter.com/startup/mparticle-com',\n",
       " 'https://www.plugandplaytechcenter.com/startup/miuros-com',\n",
       " 'https://www.plugandplaytechcenter.com/startup/dimaag-ai',\n",
       " 'https://www.plugandplaytechcenter.com/startup/recess-is',\n",
       " 'https://www.plugandplaytechcenter.com/startup/nekso-io',\n",
       " 'https://www.plugandplaytechcenter.com/startup/babylonmicrofarms-com',\n",
       " 'https://www.plugandplaytechcenter.com/startup/everlance-com',\n",
       " 'https://www.plugandplaytechcenter.com/startup/tugarage-mx',\n",
       " 'https://www.plugandplaytechcenter.com/startup/usepower-com',\n",
       " 'https://www.plugandplaytechcenter.com/startup/verofax-com',\n",
       " 'https://www.plugandplaytechcenter.com/startup/sift-com',\n",
       " 'https://www.plugandplaytechcenter.com/startup/viavii-com',\n",
       " 'https://www.plugandplaytechcenter.com/startup/deal-engine-com',\n",
       " 'https://www.plugandplaytechcenter.com/startup/airalo-com',\n",
       " 'https://www.plugandplaytechcenter.com/startup/idnow-de',\n",
       " 'https://www.plugandplaytechcenter.com/startup/climatetrade-com',\n",
       " 'https://www.plugandplaytechcenter.com/startup/atmo-ai',\n",
       " 'https://www.plugandplaytechcenter.com/startup/oxio-com',\n",
       " 'https://www.plugandplaytechcenter.com/startup/gr4vy-com',\n",
       " 'https://www.plugandplaytechcenter.com/startup/sandcage-com',\n",
       " 'https://www.plugandplaytechcenter.com/startup/softmogul-com',\n",
       " 'https://www.plugandplaytechcenter.com/startup/trooptravel-com',\n",
       " 'https://www.plugandplaytechcenter.com/startup/tripbtoz-com',\n",
       " 'https://www.plugandplaytechcenter.com/startup/onfido-com',\n",
       " 'https://www.plugandplaytechcenter.com/startup/askporter-com',\n",
       " 'https://www.plugandplaytechcenter.com/startup/tryplot-co',\n",
       " 'https://www.plugandplaytechcenter.com/startup/idnow-io',\n",
       " 'https://www.plugandplaytechcenter.com/startup/unicobag-com',\n",
       " 'https://www.plugandplaytechcenter.com/startup/moonware-us',\n",
       " 'https://www.plugandplaytechcenter.com/startup/payflow-es',\n",
       " 'https://www.plugandplaytechcenter.com/startup/hypatos-ai',\n",
       " 'https://www.plugandplaytechcenter.com/startup/spleet-africa',\n",
       " 'https://www.plugandplaytechcenter.com/startup/sastaticket-pk',\n",
       " 'https://www.plugandplaytechcenter.com/startup/point-me',\n",
       " 'https://www.plugandplaytechcenter.com/startup/stakeholderlabs-com',\n",
       " 'https://www.plugandplaytechcenter.com/startup/rhome-world',\n",
       " 'https://www.plugandplaytechcenter.com/startup/cruisebound-com',\n",
       " 'https://www.plugandplaytechcenter.com/startup/eilago-com',\n",
       " 'https://www.plugandplaytechcenter.com/startup/thedigitalhotelier-com',\n",
       " 'https://www.plugandplaytechcenter.com/startup/safarpass-com',\n",
       " 'https://www.plugandplaytechcenter.com/startup/bithuman-io',\n",
       " 'https://www.plugandplaytechcenter.com/startup/arena-im']"
      ]
     },
     "execution_count": 38,
     "metadata": {},
     "output_type": "execute_result"
    }
   ],
   "source": [
    "while True:\n",
    "    otherLink_elements = driver.find_elements(By.CSS_SELECTOR, \"pnp-startup-card a\")\n",
    "    for element in otherLink_elements:\n",
    "        otherLinks.append(element.get_attribute('href'))\n",
    "\n",
    "    try:\n",
    "        next_button = driver.find_element(By.XPATH, \"//button[contains(text(), 'Next ->')]\")\n",
    "        next_button.click()\n",
    "        time.sleep(2)\n",
    "    except:\n",
    "        break\n",
    "\n",
    "otherLinks"
   ]
  },
  {
   "cell_type": "code",
   "execution_count": 40,
   "metadata": {},
   "outputs": [],
   "source": [
    "otherLink = otherLinks[0]"
   ]
  },
  {
   "cell_type": "code",
   "execution_count": 42,
   "metadata": {},
   "outputs": [],
   "source": [
    "driver.get(otherLink)\n",
    "time.sleep(2)"
   ]
  },
  {
   "cell_type": "code",
   "execution_count": 44,
   "metadata": {},
   "outputs": [
    {
     "data": {
      "text/plain": [
       "'Resultid'"
      ]
     },
     "execution_count": 44,
     "metadata": {},
     "output_type": "execute_result"
    }
   ],
   "source": [
    "companyName = driver.find_element(By.CSS_SELECTOR, \"h1.pnp-text-primary\").text.strip()\n",
    "companyName"
   ]
  },
  {
   "cell_type": "code",
   "execution_count": 45,
   "metadata": {},
   "outputs": [
    {
     "data": {
      "text/plain": [
       "\"Resultid is a pioneering company specializing in unlocking business growth through customer data intelligence. By partnering with Resultid, businesses can decode feedback and make informed decisions, turning qualitative insights into quantitative action across various sectors. Resultid's expertise in transforming data into actionable intelligence sparks innovation and boosts customer satisfaction in industries such as automotive, technology, airlines, and hospitality. Their solutions enable businesses to stay ahead of the curve and achieve significant outcomes through the power of data-driven decision-making. Resultid's commitment to leveraging artificial intelligence and data analytics sets them apart as a key player in driving business success through customer data intelligence.\""
      ]
     },
     "execution_count": 45,
     "metadata": {},
     "output_type": "execute_result"
    }
   ],
   "source": [
    "companySolution = driver.find_element(By.CSS_SELECTOR, \"div.items-start p.pnp-text-primary\").text.strip()\n",
    "companySolution"
   ]
  },
  {
   "cell_type": "code",
   "execution_count": 46,
   "metadata": {},
   "outputs": [
    {
     "data": {
      "text/plain": [
       "'https://www.resultid.ai/'"
      ]
     },
     "execution_count": 46,
     "metadata": {},
     "output_type": "execute_result"
    }
   ],
   "source": [
    "companyWebsite = driver.find_element(By.CSS_SELECTOR, \"a.nav-link.pnp-link\").get_attribute('href')\n",
    "companyWebsite"
   ]
  }
 ],
 "metadata": {
  "kernelspec": {
   "display_name": ".venv",
   "language": "python",
   "name": "python3"
  },
  "language_info": {
   "codemirror_mode": {
    "name": "ipython",
    "version": 3
   },
   "file_extension": ".py",
   "mimetype": "text/x-python",
   "name": "python",
   "nbconvert_exporter": "python",
   "pygments_lexer": "ipython3",
   "version": "3.12.4"
  }
 },
 "nbformat": 4,
 "nbformat_minor": 2
}
