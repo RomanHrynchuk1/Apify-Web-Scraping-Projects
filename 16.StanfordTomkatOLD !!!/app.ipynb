{
 "cells": [
  {
   "cell_type": "code",
   "execution_count": null,
   "metadata": {},
   "outputs": [],
   "source": [
    "\"app.ipynb\""
   ]
  },
  {
   "cell_type": "code",
   "execution_count": null,
   "metadata": {},
   "outputs": [],
   "source": [
    "import time\n",
    "import traceback\n",
    "from selenium import webdriver\n",
    "from selenium.webdriver.common.by import By\n",
    "from selenium.webdriver.chrome.service import Service\n",
    "from selenium.webdriver.common.action_chains import ActionChains\n",
    "from bs4 import BeautifulSoup"
   ]
  },
  {
   "cell_type": "code",
   "execution_count": null,
   "metadata": {},
   "outputs": [],
   "source": [
    "# Set up Selenium WebDriver\n",
    "chromedriver_path = \"./chromedriver-32.exe\"\n",
    "service = Service(chromedriver_path)\n",
    "\n",
    "# Set the path to the Portable Chrome executable\n",
    "chrome_exe_path = \"./chrome-win32/chrome.exe\"\n",
    "chrome_options = webdriver.ChromeOptions()\n",
    "chrome_options.binary_location = chrome_exe_path\n",
    "# chrome_options.add_argument('--headless')\n",
    "chrome_options.add_argument('--disable-dev-shm-usage')\n",
    "# chrome_options.add_argument(\"--blink-settings=imagesEnabled=false\")\n",
    "\n",
    "driver = webdriver.Chrome(service=service, options=chrome_options)"
   ]
  },
  {
   "cell_type": "code",
   "execution_count": null,
   "metadata": {},
   "outputs": [],
   "source": [
    "# for start_url in START_URL_LIST:\n",
    "start_url = \"https://airtable.com/embed/shrCf4smsrEmVyebB?backgroundColor=gray&viewControls=on\""
   ]
  },
  {
   "cell_type": "code",
   "execution_count": null,
   "metadata": {},
   "outputs": [],
   "source": [
    "driver.get(start_url)\n",
    "time.sleep(5)"
   ]
  },
  {
   "cell_type": "code",
   "execution_count": null,
   "metadata": {},
   "outputs": [],
   "source": [
    "main_element = driver.find_element(By.CSS_SELECTOR, \"div.light-scrollbar\")"
   ]
  },
  {
   "cell_type": "code",
   "execution_count": null,
   "metadata": {},
   "outputs": [],
   "source": [
    "# Remove the 'light-scrollbar' class using JavaScript\n",
    "driver.execute_script(\"arguments[0].classList.remove('light-scrollbar');\", main_element)\n",
    "time.sleep(1)"
   ]
  },
  {
   "cell_type": "code",
   "execution_count": null,
   "metadata": {},
   "outputs": [],
   "source": [
    "# Function to get the current scroll position and scroll height\n",
    "def get_scroll_info(element):\n",
    "    return driver.execute_script(\"\"\"\n",
    "        return {\n",
    "            scrollTop: arguments[0].scrollTop,\n",
    "            scrollHeight: arguments[0].scrollHeight,\n",
    "            clientHeight: arguments[0].clientHeight\n",
    "        };\n",
    "    \"\"\", element)"
   ]
  },
  {
   "cell_type": "code",
   "execution_count": null,
   "metadata": {},
   "outputs": [],
   "source": [
    "# Scroll down 400px at a time until the bottom is reached\n",
    "while True:\n",
    "    elements = main_element.find_elements(By.CSS_SELECTOR, \"div.galleryCardContainer\")\n",
    "    for element in elements:\n",
    "        element_list = element.find_elements(By.XPATH, \".//div[@role='presentation']/div/div\")\n",
    "        if len(element_list) == 5:\n",
    "            companyName = element_list[2].text.strip() or \"N/A\"\n",
    "            otherLink = element_list[2].find_element(By.TAG_NAME, \"a\").get_attribute(\"href\") or \"#\"\n",
    "            companySolution = element_list[3].find_element(By.CSS_SELECTOR, \"div.cellContainer span\").text.strip() or \"N/A\"\n",
    "            # companyWebsite = element_list[4].find_element(By.CSS_SELECTOR, \"div.cellContainer\").text.strip() or \"#\"\n",
    "            print(companyName, companySolution, otherLink)\n",
    "        else:\n",
    "            print(f\"Warning! The size of element-list is {len(element_list)}\")\n",
    "    \n",
    "    scroll_info = get_scroll_info(main_element)\n",
    "    scroll_top = scroll_info['scrollTop']\n",
    "    scroll_height = scroll_info['scrollHeight']\n",
    "    client_height = scroll_info['clientHeight']\n",
    "    \n",
    "    # Break the loop if we've reached the bottom\n",
    "    if scroll_top + client_height >= scroll_height:\n",
    "        break\n",
    "    \n",
    "    # Scroll down 400px\n",
    "    driver.execute_script(\"arguments[0].scrollBy(0, 400);\", main_element)\n",
    "    time.sleep(0.5)"
   ]
  }
 ],
 "metadata": {
  "kernelspec": {
   "display_name": ".venv",
   "language": "python",
   "name": "python3"
  },
  "language_info": {
   "codemirror_mode": {
    "name": "ipython",
    "version": 3
   },
   "file_extension": ".py",
   "mimetype": "text/x-python",
   "name": "python",
   "nbconvert_exporter": "python",
   "pygments_lexer": "ipython3",
   "version": "3.12.4"
  }
 },
 "nbformat": 4,
 "nbformat_minor": 2
}
