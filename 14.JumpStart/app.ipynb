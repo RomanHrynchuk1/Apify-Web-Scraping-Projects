{
 "cells": [
  {
   "cell_type": "code",
   "execution_count": 1,
   "metadata": {},
   "outputs": [
    {
     "data": {
      "text/plain": [
       "'app.ipynb'"
      ]
     },
     "execution_count": 1,
     "metadata": {},
     "output_type": "execute_result"
    }
   ],
   "source": [
    "\"app.ipynb\""
   ]
  },
  {
   "cell_type": "code",
   "execution_count": 2,
   "metadata": {},
   "outputs": [],
   "source": [
    "import time\n",
    "from selenium import webdriver\n",
    "from selenium.webdriver.common.by import By\n",
    "from selenium.webdriver.chrome.service import Service\n",
    "from selenium.webdriver.common.action_chains import ActionChains"
   ]
  },
  {
   "cell_type": "code",
   "execution_count": 3,
   "metadata": {},
   "outputs": [],
   "source": [
    "# Set up Selenium WebDriver\n",
    "chromedriver_path = \"./chromedriver-32.exe\"\n",
    "service = Service(chromedriver_path)\n",
    "\n",
    "# Set the path to the Portable Chrome executable\n",
    "chrome_exe_path = \"./chrome-win32/chrome.exe\"\n",
    "chrome_options = webdriver.ChromeOptions()\n",
    "chrome_options.binary_location = chrome_exe_path\n",
    "# chrome_options.add_argument('--headless')\n",
    "chrome_options.add_argument('--disable-dev-shm-usage')\n",
    "# chrome_options.add_argument(\"--blink-settings=imagesEnabled=false\")\n",
    "\n",
    "driver = webdriver.Chrome(service=service, options=chrome_options)"
   ]
  },
  {
   "cell_type": "code",
   "execution_count": 4,
   "metadata": {},
   "outputs": [],
   "source": [
    "# for start_url in START_URL_LIST:\n",
    "start_url = \"https://www.jumpstartinc.org/our-companies/\""
   ]
  },
  {
   "cell_type": "code",
   "execution_count": 5,
   "metadata": {},
   "outputs": [],
   "source": [
    "driver.get(start_url)\n",
    "time.sleep(8)"
   ]
  },
  {
   "cell_type": "code",
   "execution_count": 6,
   "metadata": {},
   "outputs": [],
   "source": [
    "driver.execute_script(\"window.scrollTo(0, document.body.scrollHeight);\")\n",
    "time.sleep(2)"
   ]
  },
  {
   "cell_type": "code",
   "execution_count": 7,
   "metadata": {},
   "outputs": [
    {
     "data": {
      "text/plain": [
       "107"
      ]
     },
     "execution_count": 7,
     "metadata": {},
     "output_type": "execute_result"
    }
   ],
   "source": [
    "otherLinks = [element.get_attribute('href') for element in driver.find_elements(By.CSS_SELECTOR, \"a.fusion-link-wrapper\")]\n",
    "len(otherLinks)"
   ]
  },
  {
   "cell_type": "code",
   "execution_count": 8,
   "metadata": {},
   "outputs": [
    {
     "data": {
      "text/plain": [
       "['https://jumpstart.vc/portfolio-company/7signal/',\n",
       " 'https://jumpstart.vc/portfolio-company/able/',\n",
       " 'https://jumpstart.vc/portfolio-company/abre/',\n",
       " 'https://jumpstart.vc/portfolio-company/actionstreamer/',\n",
       " 'https://jumpstart.vc/portfolio-company/agileultrasonics/',\n",
       " 'https://jumpstart.vc/portfolio-company/alensiaxr/',\n",
       " 'https://jumpstart.vc/portfolio-company/alviere/',\n",
       " 'https://jumpstart.vc/portfolio-company/amplifund/',\n",
       " 'https://jumpstart.vc/portfolio-company/armatus/',\n",
       " 'https://jumpstart.vc/portfolio-company/asyntsolutions/',\n",
       " 'https://jumpstart.vc/portfolio-company/augment-therapy/',\n",
       " 'https://jumpstart.vc/portfolio-company/aware/',\n",
       " 'https://jumpstart.vc/portfolio-company/axuall/',\n",
       " 'https://jumpstart.vc/portfolio-company/band-connect/',\n",
       " 'https://jumpstart.vc/portfolio-company/banyan-technology/',\n",
       " 'https://jumpstart.vc/portfolio-company/beanstalk/',\n",
       " 'https://jumpstart.vc/portfolio-company/big-river/',\n",
       " 'https://jumpstart.vc/portfolio-company/biohm/',\n",
       " 'https://jumpstart.vc/portfolio-company/biomendics/',\n",
       " 'https://jumpstart.vc/portfolio-company/blended/',\n",
       " 'https://jumpstart.vc/portfolio-company/boxcast/',\n",
       " 'https://jumpstart.vc/portfolio-company/cardioinsight/',\n",
       " 'https://jumpstart.vc/portfolio-company/career-town-network-inc/',\n",
       " 'https://jumpstart.vc/portfolio-company/casentric/',\n",
       " 'https://jumpstart.vc/portfolio-company/catacel/',\n",
       " 'https://jumpstart.vc/portfolio-company/centerline-biomedical-inc/',\n",
       " 'https://jumpstart.vc/portfolio-company/checkpoint-surgical/',\n",
       " 'https://jumpstart.vc/portfolio-company/cleveland-diagnostics/',\n",
       " 'https://jumpstart.vc/portfolio-company/color-coded-labs/',\n",
       " 'https://jumpstart.vc/portfolio-company/complion/',\n",
       " 'https://jumpstart.vc/portfolio-company/content-status/',\n",
       " 'https://jumpstart.vc/portfolio-company/convelo-therapeutics/',\n",
       " 'https://jumpstart.vc/portfolio-company/covermymeds/',\n",
       " 'https://jumpstart.vc/portfolio-company/cryothermic-systems/',\n",
       " 'https://jumpstart.vc/portfolio-company/delivered/',\n",
       " 'https://jumpstart.vc/portfolio-company/docket/',\n",
       " 'https://jumpstart.vc/portfolio-company/drive-my-way/',\n",
       " 'https://jumpstart.vc/portfolio-company/echogen-power-systems/',\n",
       " 'https://jumpstart.vc/portfolio-company/embrace-pet-insurance/',\n",
       " 'https://jumpstart.vc/portfolio-company/endotronix/',\n",
       " 'https://jumpstart.vc/portfolio-company/enosix/',\n",
       " 'https://jumpstart.vc/portfolio-company/extendify/',\n",
       " 'https://jumpstart.vc/portfolio-company/felux/',\n",
       " 'https://jumpstart.vc/portfolio-company/genomoncology/',\n",
       " 'https://jumpstart.vc/portfolio-company/guardian-medical/',\n",
       " 'https://jumpstart.vc/portfolio-company/healthy-roster/',\n",
       " 'https://jumpstart.vc/portfolio-company/heureka/',\n",
       " 'https://jumpstart.vc/portfolio-company/inphlu/',\n",
       " 'https://jumpstart.vc/portfolio-company/inspherion/',\n",
       " 'https://jumpstart.vc/portfolio-company/intelligent-mobile-support/',\n",
       " 'https://jumpstart.vc/portfolio-company/invirsa/',\n",
       " 'https://jumpstart.vc/portfolio-company/knotice/',\n",
       " 'https://jumpstart.vc/portfolio-company/limitless-minds/',\n",
       " 'https://jumpstart.vc/portfolio-company/lisnr/',\n",
       " 'https://jumpstart.vc/portfolio-company/medcity-news/',\n",
       " 'https://jumpstart.vc/portfolio-company/medpilot/',\n",
       " 'https://jumpstart.vc/portfolio-company/mesocoat/',\n",
       " 'https://jumpstart.vc/portfolio-company/mureva-phototherapy/',\n",
       " 'https://jumpstart.vc/portfolio-company/my-home-park/',\n",
       " 'https://jumpstart.vc/portfolio-company/my-one-medical-source/',\n",
       " 'https://jumpstart.vc/portfolio-company/nativeai/',\n",
       " 'https://jumpstart.vc/portfolio-company/neuros-medical/',\n",
       " 'https://jumpstart.vc/portfolio-company/neverending-inc/',\n",
       " 'https://jumpstart.vc/portfolio-company/nymbl/',\n",
       " 'https://jumpstart.vc/portfolio-company/octet-scientific/',\n",
       " 'https://jumpstart.vc/portfolio-company/oko/',\n",
       " 'https://jumpstart.vc/portfolio-company/onshift/',\n",
       " 'https://jumpstart.vc/portfolio-company/onstation/',\n",
       " 'https://jumpstart.vc/portfolio-company/orthobrain/',\n",
       " 'https://jumpstart.vc/portfolio-company/ovationcxm/',\n",
       " 'https://jumpstart.vc/portfolio-company/peerro/',\n",
       " 'https://jumpstart.vc/portfolio-company/preemptive/',\n",
       " 'https://jumpstart.vc/portfolio-company/presta/',\n",
       " 'https://jumpstart.vc/portfolio-company/proformex/',\n",
       " 'https://jumpstart.vc/portfolio-company/readyset-surgical/',\n",
       " 'https://jumpstart.vc/portfolio-company/renalis/',\n",
       " 'https://jumpstart.vc/portfolio-company/rhove/',\n",
       " 'https://jumpstart.vc/portfolio-company/roosense/',\n",
       " 'https://jumpstart.vc/portfolio-company/s4-medical/',\n",
       " 'https://jumpstart.vc/portfolio-company/scriptdrop/',\n",
       " 'https://jumpstart.vc/portfolio-company/securus-medical-group/',\n",
       " 'https://jumpstart.vc/portfolio-company/segmint/',\n",
       " 'https://jumpstart.vc/portfolio-company/share-mobility/',\n",
       " 'https://jumpstart.vc/portfolio-company/sno-bio/',\n",
       " 'https://jumpstart.vc/portfolio-company/society-brands/',\n",
       " 'https://jumpstart.vc/portfolio-company/solo-funds/',\n",
       " 'https://jumpstart.vc/portfolio-company/spr-therapeutics/',\n",
       " 'https://jumpstart.vc/portfolio-company/stack-media/',\n",
       " 'https://jumpstart.vc/portfolio-company/strongsuit/',\n",
       " 'https://jumpstart.vc/portfolio-company/synapse/',\n",
       " 'https://jumpstart.vc/portfolio-company/talmetrix/',\n",
       " 'https://jumpstart.vc/portfolio-company/thrivable/',\n",
       " 'https://jumpstart.vc/portfolio-company/time2talk/',\n",
       " 'https://jumpstart.vc/portfolio-company/tondone/',\n",
       " 'https://jumpstart.vc/portfolio-company/tpa-stream/',\n",
       " 'https://jumpstart.vc/portfolio-company/tranztec/',\n",
       " 'https://jumpstart.vc/portfolio-company/unific/',\n",
       " 'https://jumpstart.vc/portfolio-company/unify-jobs/',\n",
       " 'https://jumpstart.vc/portfolio-company/vitalxchange/',\n",
       " 'https://jumpstart.vc/portfolio-company/vizzle/',\n",
       " 'https://jumpstart.vc/portfolio-company/vlipsy/',\n",
       " 'https://jumpstart.vc/portfolio-company/vox-mobile/',\n",
       " 'https://jumpstart.vc/portfolio-company/wireless-environment/',\n",
       " 'https://jumpstart.vc/portfolio-company/wisr/',\n",
       " 'https://jumpstart.vc/portfolio-company/wizest/',\n",
       " 'https://jumpstart.vc/portfolio-company/xploro/',\n",
       " 'https://jumpstart.vc/portfolio-company/zuga-medical/']"
      ]
     },
     "execution_count": 8,
     "metadata": {},
     "output_type": "execute_result"
    }
   ],
   "source": [
    "otherLinks"
   ]
  },
  {
   "cell_type": "code",
   "execution_count": 9,
   "metadata": {},
   "outputs": [],
   "source": [
    "# for otherLink in otherLinks:\n",
    "otherLink = otherLinks[0]"
   ]
  },
  {
   "cell_type": "code",
   "execution_count": 10,
   "metadata": {},
   "outputs": [],
   "source": [
    "driver.get(otherLink)\n",
    "time.sleep(0.3)"
   ]
  },
  {
   "cell_type": "code",
   "execution_count": 11,
   "metadata": {},
   "outputs": [
    {
     "data": {
      "text/plain": [
       "'7Signal'"
      ]
     },
     "execution_count": 11,
     "metadata": {},
     "output_type": "execute_result"
    }
   ],
   "source": [
    "companyName = driver.find_element(By.CSS_SELECTOR, \"div.fusion-title-1\").text.strip()\n",
    "companyName"
   ]
  },
  {
   "cell_type": "code",
   "execution_count": 12,
   "metadata": {},
   "outputs": [
    {
     "data": {
      "text/plain": [
       "'7signal has developed the Sapphire wireless LAN performance optimization solution.\\nThe Cleveland-based company’s innovative solution correlates wireless user performance experience directly and immediately to the source of each network problem. It serves healthcare, education and manufacturing/distribution customers, whose access to reliable wireless LANs is most critical.'"
      ]
     },
     "execution_count": 12,
     "metadata": {},
     "output_type": "execute_result"
    }
   ],
   "source": [
    "companySolution = driver.find_element(By.CSS_SELECTOR, \"div.fusion-text-3\").text.strip()\n",
    "companySolution"
   ]
  },
  {
   "cell_type": "code",
   "execution_count": 13,
   "metadata": {},
   "outputs": [
    {
     "data": {
      "text/plain": [
       "'https://www.7signal.com/'"
      ]
     },
     "execution_count": 13,
     "metadata": {},
     "output_type": "execute_result"
    }
   ],
   "source": [
    "companyWebsite = driver.find_element(By.CSS_SELECTOR, \"div.fusion-text-4 a\").get_attribute('href')\n",
    "companyWebsite"
   ]
  }
 ],
 "metadata": {
  "kernelspec": {
   "display_name": ".venv",
   "language": "python",
   "name": "python3"
  },
  "language_info": {
   "codemirror_mode": {
    "name": "ipython",
    "version": 3
   },
   "file_extension": ".py",
   "mimetype": "text/x-python",
   "name": "python",
   "nbconvert_exporter": "python",
   "pygments_lexer": "ipython3",
   "version": "3.12.4"
  }
 },
 "nbformat": 4,
 "nbformat_minor": 2
}
