{
 "cells": [
  {
   "cell_type": "code",
   "execution_count": 1,
   "metadata": {},
   "outputs": [
    {
     "data": {
      "text/plain": [
       "'app.ipynb'"
      ]
     },
     "execution_count": 1,
     "metadata": {},
     "output_type": "execute_result"
    }
   ],
   "source": [
    "\"app.ipynb\""
   ]
  },
  {
   "cell_type": "code",
   "execution_count": 2,
   "metadata": {},
   "outputs": [],
   "source": [
    "from urllib.parse import urljoin\n",
    "\n",
    "from bs4 import BeautifulSoup\n",
    "from httpx import AsyncClient"
   ]
  },
  {
   "cell_type": "code",
   "execution_count": 3,
   "metadata": {},
   "outputs": [],
   "source": [
    "start_url = \"https://engineventures.com/companies\""
   ]
  },
  {
   "cell_type": "code",
   "execution_count": 10,
   "metadata": {},
   "outputs": [],
   "source": [
    "async def get_response(url):\n",
    "    # Fetch the content from the URL\n",
    "    async with AsyncClient() as client:\n",
    "        response = await client.get(url, follow_redirects=True)\n",
    "    response.raise_for_status()\n",
    "    return response"
   ]
  },
  {
   "cell_type": "code",
   "execution_count": 11,
   "metadata": {},
   "outputs": [],
   "source": [
    "response = await get_response(start_url)"
   ]
  },
  {
   "cell_type": "code",
   "execution_count": 5,
   "metadata": {},
   "outputs": [],
   "source": [
    "# Parse the HTML content\n",
    "soup = BeautifulSoup(response.content, 'html.parser')"
   ]
  },
  {
   "cell_type": "code",
   "execution_count": 7,
   "metadata": {},
   "outputs": [
    {
     "data": {
      "text/plain": [
       "51"
      ]
     },
     "execution_count": 7,
     "metadata": {},
     "output_type": "execute_result"
    }
   ],
   "source": [
    "otherLinks = [element[\"href\"] for element in soup.select(\"ul#companies-list__results > li > a\")]"
   ]
  },
  {
   "cell_type": "code",
   "execution_count": 8,
   "metadata": {},
   "outputs": [],
   "source": [
    "otherLink = otherLinks[0]"
   ]
  },
  {
   "cell_type": "code",
   "execution_count": 12,
   "metadata": {},
   "outputs": [],
   "source": [
    "response = await get_response(otherLink)"
   ]
  },
  {
   "cell_type": "code",
   "execution_count": 13,
   "metadata": {},
   "outputs": [],
   "source": [
    "soup = BeautifulSoup(response.text, \"html.parser\")"
   ]
  },
  {
   "cell_type": "code",
   "execution_count": 14,
   "metadata": {},
   "outputs": [],
   "source": [
    "companyName = soup.select_one(\"h1.split-topper__title\").text.strip()\n",
    "companySolution = soup.select_one(\"section.content-block\").find(\"p\").text.strip()\n",
    "companyWebsite = soup.select_one(\"div.company-footer__definition-list a[href*=\\'.\\']\").text.strip()"
   ]
  },
  {
   "cell_type": "code",
   "execution_count": 15,
   "metadata": {},
   "outputs": [
    {
     "data": {
      "text/plain": [
       "('Predicta',\n",
       " 'Precision medicine is revolutionizing oncology, with targeted therapies that improve and extend cancer patients’ lives. But precision diagnostics have fallen behind. In their clinical practices at the Dana-Farber Cancer Institute, physician-scientists Dr. Irene Ghobrial and Dr. Kenneth Anderson saw firsthand this gap between the state-of-the-art immunotherapies increasingly at their disposal, and the archaic diagnostic processes available to help them in their treatment decisions. “Most of the drugs we use are targeted therapies,” says Dr. Ghobrial, “but we often don’t know which patients will or will not respond.” And for blood cancers, like multiple myeloma, even those limited tests require a bone marrow biopsy—a painful surgical procedure, which often yields limited clinical value.',\n",
       " 'https://www.predictabiosciences.com')"
      ]
     },
     "execution_count": 15,
     "metadata": {},
     "output_type": "execute_result"
    }
   ],
   "source": [
    "companyName, companySolution, companyWebsite"
   ]
  }
 ],
 "metadata": {
  "kernelspec": {
   "display_name": ".venv",
   "language": "python",
   "name": "python3"
  },
  "language_info": {
   "codemirror_mode": {
    "name": "ipython",
    "version": 3
   },
   "file_extension": ".py",
   "mimetype": "text/x-python",
   "name": "python",
   "nbconvert_exporter": "python",
   "pygments_lexer": "ipython3",
   "version": "3.12.4"
  }
 },
 "nbformat": 4,
 "nbformat_minor": 2
}
