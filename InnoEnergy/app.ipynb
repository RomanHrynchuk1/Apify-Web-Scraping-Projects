{
 "cells": [
  {
   "cell_type": "code",
   "execution_count": 1,
   "metadata": {},
   "outputs": [
    {
     "data": {
      "text/plain": [
       "'app.ipynb'"
      ]
     },
     "execution_count": 1,
     "metadata": {},
     "output_type": "execute_result"
    }
   ],
   "source": [
    "\"app.ipynb\""
   ]
  },
  {
   "cell_type": "code",
   "execution_count": 1,
   "metadata": {},
   "outputs": [],
   "source": [
    "import time\n",
    "from selenium import webdriver\n",
    "from selenium.webdriver.common.by import By\n",
    "from selenium.webdriver.chrome.service import Service\n",
    "from selenium.common.exceptions import NoSuchElementException, WebDriverException"
   ]
  },
  {
   "cell_type": "code",
   "execution_count": 3,
   "metadata": {},
   "outputs": [],
   "source": [
    "BASE_URL = \"https://www.innoenergy.com/discover-innovative-solutions/online-marketplace-for-energy-innovations/\"\n",
    "PAGE_URL = f\"{BASE_URL}?page={{page_id}}\""
   ]
  },
  {
   "cell_type": "code",
   "execution_count": 25,
   "metadata": {},
   "outputs": [],
   "source": [
    "# Set up Selenium WebDriver\n",
    "chromedriver_path = \"./chromedriver-32.exe\"\n",
    "service = Service(chromedriver_path)\n",
    "\n",
    "# Set the path to the Portable Chrome executable\n",
    "chrome_exe_path = \"./chrome-win32/chrome.exe\"\n",
    "chrome_options = webdriver.ChromeOptions()\n",
    "chrome_options.binary_location = chrome_exe_path\n",
    "# chrome_options.add_argument('--headless')\n",
    "chrome_options.add_argument('--disable-dev-shm-usage')\n",
    "# chrome_options.add_argument('--blink-settings=imagesEnabled=false')\n",
    "\n",
    "driver = webdriver.Chrome(service=service, options=chrome_options)"
   ]
  },
  {
   "cell_type": "code",
   "execution_count": 5,
   "metadata": {},
   "outputs": [],
   "source": [
    "driver.get(BASE_URL)\n",
    "time.sleep(3)\n",
    "\n",
    "try:\n",
    "    driver.find_element(By.ID, \"CybotCookiebotDialogBodyLevelButtonLevelOptinAllowAll\").click()\n",
    "except:\n",
    "    pass"
   ]
  },
  {
   "cell_type": "code",
   "execution_count": 6,
   "metadata": {},
   "outputs": [
    {
     "data": {
      "text/plain": [
       "36"
      ]
     },
     "execution_count": 6,
     "metadata": {},
     "output_type": "execute_result"
    }
   ],
   "source": [
    "try:\n",
    "    page_count_element = driver.find_element(By.XPATH, \"//div[contains(@class, 'ListPagination_listPaginationItem')]\")\n",
    "    page_count = int(page_count_element.text.strip())\n",
    "except NoSuchElementException:\n",
    "    page_count = 1\n",
    "    print(\"Page count element not found\")\n",
    "except ValueError:\n",
    "    page_count = 1\n",
    "    print(\"Unable to convert page count to integer\")\n",
    "except WebDriverException as e:\n",
    "    page_count = 1\n",
    "    print(f\"WebDriverException occurred: {e}\")\n",
    "\n",
    "page_count"
   ]
  },
  {
   "cell_type": "code",
   "execution_count": 7,
   "metadata": {},
   "outputs": [],
   "source": [
    "other_link_list = []"
   ]
  },
  {
   "cell_type": "code",
   "execution_count": 8,
   "metadata": {},
   "outputs": [],
   "source": [
    "# for page_number in range(1, page_count+1):\n",
    "page_number = 1"
   ]
  },
  {
   "cell_type": "code",
   "execution_count": 9,
   "metadata": {},
   "outputs": [],
   "source": [
    "page_url = PAGE_URL.format(page_id = page_number)\n",
    "driver.get(page_url)\n",
    "time.sleep(3)"
   ]
  },
  {
   "cell_type": "code",
   "execution_count": 10,
   "metadata": {},
   "outputs": [],
   "source": [
    "try:\n",
    "    elements = driver.find_elements(By.XPATH, \"//a[contains(@class, 'ProductListItem_itemTitle')]\")\n",
    "    otherLinks = [element.get_attribute('href') for element in elements]\n",
    "except NoSuchElementException:\n",
    "    otherLinks = []\n",
    "    print(\"Product list item elements not found\")\n",
    "except WebDriverException as e:\n",
    "    otherLinks = []\n",
    "    print(f\"WebDriverException occurred: {e}\")\n",
    "\n",
    "other_link_list.extend(otherLinks)"
   ]
  },
  {
   "cell_type": "code",
   "execution_count": 11,
   "metadata": {},
   "outputs": [
    {
     "data": {
      "text/plain": [
       "'https://www.innoenergy.com/discover-innovative-solutions/online-marketplace-for-energy-innovations/flexidao/'"
      ]
     },
     "execution_count": 11,
     "metadata": {},
     "output_type": "execute_result"
    }
   ],
   "source": [
    "# for otherLink in other_link_list:\n",
    "otherLink = other_link_list[0]\n",
    "otherLink"
   ]
  },
  {
   "cell_type": "code",
   "execution_count": 12,
   "metadata": {},
   "outputs": [],
   "source": [
    "driver.get(otherLink)\n",
    "time.sleep(3)"
   ]
  },
  {
   "cell_type": "code",
   "execution_count": 13,
   "metadata": {},
   "outputs": [
    {
     "data": {
      "text/plain": [
       "'Inventory by Flexidao'"
      ]
     },
     "execution_count": 13,
     "metadata": {},
     "output_type": "execute_result"
    }
   ],
   "source": [
    "companyName = driver.find_element(By.XPATH, \"//h1[contains(@class, 'HeroProduct_title')]\").text.strip()\n",
    "companyName"
   ]
  },
  {
   "cell_type": "code",
   "execution_count": 14,
   "metadata": {},
   "outputs": [
    {
     "data": {
      "text/plain": [
       "'Companies may struggle getting credible data on the green energy they purchase and consume.\\u200d Flexidao analyses data to help companies report with confidence and make intelligent energy procurement decisions. The software tracks the origin of renewable energy in real time and matches production data to each consumption point.'"
      ]
     },
     "execution_count": 14,
     "metadata": {},
     "output_type": "execute_result"
    }
   ],
   "source": [
    "companySolution = driver.find_element(By.XPATH, \"//div[contains(@class, 'HeroProduct_description')]/p\").text.strip()\n",
    "companySolution"
   ]
  },
  {
   "cell_type": "code",
   "execution_count": 15,
   "metadata": {},
   "outputs": [
    {
     "data": {
      "text/plain": [
       "'https://www.flexidao.com/'"
      ]
     },
     "execution_count": 15,
     "metadata": {},
     "output_type": "execute_result"
    }
   ],
   "source": [
    "companyWebsite = driver.find_element(By.XPATH, \"//a[contains(@class, 'CommercializedBy_url')]\").get_attribute('href')\n",
    "companyWebsite"
   ]
  },
  {
   "cell_type": "code",
   "execution_count": 35,
   "metadata": {},
   "outputs": [],
   "source": [
    "driver.delete_all_cookies()\n",
    "driver.quit()"
   ]
  },
  {
   "cell_type": "code",
   "execution_count": 26,
   "metadata": {},
   "outputs": [],
   "source": [
    "driver.get(\"https://www.innoenergy.com/discover-innovative-solutions/online-marketplace-for-energy-innovations/\")\n",
    "time.sleep(3)"
   ]
  },
  {
   "cell_type": "code",
   "execution_count": 33,
   "metadata": {},
   "outputs": [
    {
     "data": {
      "text/plain": [
       "<selenium.webdriver.remote.webelement.WebElement (session=\"de886142f6f735581153e1d1330a1409\", element=\"6A9514653E71E64B235524CBAF5CF808_element_140\")>"
      ]
     },
     "execution_count": 33,
     "metadata": {},
     "output_type": "execute_result"
    }
   ],
   "source": [
    "page_count_element = driver.find_element(By.CSS_SELECTOR, \"div[class^='ListPagination_listPaginationItem']\")\n",
    "page_count_element"
   ]
  },
  {
   "cell_type": "code",
   "execution_count": 34,
   "metadata": {},
   "outputs": [
    {
     "data": {
      "text/plain": [
       "'36'"
      ]
     },
     "execution_count": 34,
     "metadata": {},
     "output_type": "execute_result"
    }
   ],
   "source": [
    "text = page_count_element.text\n",
    "text"
   ]
  }
 ],
 "metadata": {
  "kernelspec": {
   "display_name": ".venv",
   "language": "python",
   "name": "python3"
  },
  "language_info": {
   "codemirror_mode": {
    "name": "ipython",
    "version": 3
   },
   "file_extension": ".py",
   "mimetype": "text/x-python",
   "name": "python",
   "nbconvert_exporter": "python",
   "pygments_lexer": "ipython3",
   "version": "3.12.4"
  }
 },
 "nbformat": 4,
 "nbformat_minor": 2
}
