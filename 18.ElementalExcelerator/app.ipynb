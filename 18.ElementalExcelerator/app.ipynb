{
 "cells": [
  {
   "cell_type": "code",
   "execution_count": null,
   "metadata": {},
   "outputs": [],
   "source": [
    "\"app.ipynb\""
   ]
  },
  {
   "cell_type": "code",
   "execution_count": null,
   "metadata": {},
   "outputs": [],
   "source": [
    "import time\n",
    "import traceback\n",
    "from selenium import webdriver\n",
    "from selenium.webdriver.common.by import By\n",
    "from selenium.webdriver.chrome.service import Service\n",
    "from selenium.webdriver.common.action_chains import ActionChains\n",
    "from bs4 import BeautifulSoup"
   ]
  },
  {
   "cell_type": "code",
   "execution_count": null,
   "metadata": {},
   "outputs": [],
   "source": [
    "# Set up Selenium WebDriver\n",
    "chromedriver_path = \"./chromedriver-32.exe\"\n",
    "service = Service(chromedriver_path)\n",
    "\n",
    "# Set the path to the Portable Chrome executable\n",
    "chrome_exe_path = \"./chrome-win32/chrome.exe\"\n",
    "chrome_options = webdriver.ChromeOptions()\n",
    "chrome_options.binary_location = chrome_exe_path\n",
    "# chrome_options.add_argument('--headless')\n",
    "chrome_options.add_argument('--disable-dev-shm-usage')\n",
    "# chrome_options.add_argument(\"--blink-settings=imagesEnabled=false\")\n",
    "\n",
    "driver = webdriver.Chrome(service=service, options=chrome_options)"
   ]
  },
  {
   "cell_type": "code",
   "execution_count": null,
   "metadata": {},
   "outputs": [],
   "source": [
    "# for start_url in START_URL_LIST:\n",
    "start_url = \"https://elementalexcelerator.com/companies/\""
   ]
  },
  {
   "cell_type": "code",
   "execution_count": null,
   "metadata": {},
   "outputs": [],
   "source": [
    "driver.get(start_url)\n",
    "time.sleep(3)"
   ]
  },
  {
   "cell_type": "code",
   "execution_count": null,
   "metadata": {},
   "outputs": [],
   "source": [
    "page_source = driver.page_source"
   ]
  },
  {
   "cell_type": "code",
   "execution_count": null,
   "metadata": {},
   "outputs": [],
   "source": [
    "soup = BeautifulSoup(page_source, \"html.parser\")"
   ]
  },
  {
   "cell_type": "code",
   "execution_count": null,
   "metadata": {},
   "outputs": [],
   "source": [
    "elements = soup.select(\"div.mfp-hide.js-cportfolio-modal\")\n",
    "len(elements)"
   ]
  },
  {
   "cell_type": "code",
   "execution_count": null,
   "metadata": {},
   "outputs": [],
   "source": [
    "# for element in elements:\n",
    "element = elements[1]"
   ]
  },
  {
   "cell_type": "code",
   "execution_count": null,
   "metadata": {},
   "outputs": [],
   "source": [
    "companyName = element.select_one(\"div.cportfolio__popup__main__top h2\").text.strip()\n",
    "companyName"
   ]
  },
  {
   "cell_type": "code",
   "execution_count": null,
   "metadata": {},
   "outputs": [],
   "source": [
    "companySolutions = element.select(\"section.main-content div.grid__column\")"
   ]
  },
  {
   "cell_type": "code",
   "execution_count": null,
   "metadata": {},
   "outputs": [],
   "source": [
    "TheSolution = \"\"\n",
    "About = \"\"\n",
    "for solution_element in companySolutions:\n",
    "    text = solution_element.text.strip()\n",
    "    if text.startswith(\"The solution.\"):\n",
    "        TheSolution = text[13:].strip()\n",
    "    if text.startswith(\"About\"):\n",
    "        About = text\n",
    "FirstText = companySolutions[0].text.strip()"
   ]
  },
  {
   "cell_type": "code",
   "execution_count": null,
   "metadata": {},
   "outputs": [],
   "source": [
    "companySolution = TheSolution or About or FirstText\n",
    "companySolution"
   ]
  },
  {
   "cell_type": "code",
   "execution_count": null,
   "metadata": {},
   "outputs": [],
   "source": [
    "companyWebsite = \"\"\n",
    "for element_url in element.select(\"div.cportfolio__popup__sidebar div.cportfolio__popup__sidebar__section--logo a\"):\n",
    "    if element_url.text.strip() == \"Website\":\n",
    "        companyWebsite = element_url.get('href')\n",
    "companyWebsite"
   ]
  }
 ],
 "metadata": {
  "kernelspec": {
   "display_name": ".venv",
   "language": "python",
   "name": "python3"
  },
  "language_info": {
   "codemirror_mode": {
    "name": "ipython",
    "version": 3
   },
   "file_extension": ".py",
   "mimetype": "text/x-python",
   "name": "python",
   "nbconvert_exporter": "python",
   "pygments_lexer": "ipython3",
   "version": "3.12.4"
  }
 },
 "nbformat": 4,
 "nbformat_minor": 2
}
