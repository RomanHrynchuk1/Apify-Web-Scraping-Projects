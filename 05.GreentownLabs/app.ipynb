{
 "cells": [
  {
   "cell_type": "code",
   "execution_count": null,
   "metadata": {},
   "outputs": [],
   "source": [
    "\"app.ipynb\""
   ]
  },
  {
   "cell_type": "code",
   "execution_count": 1,
   "metadata": {},
   "outputs": [],
   "source": [
    "import time\n",
    "from selenium import webdriver\n",
    "from selenium.webdriver.common.by import By\n",
    "from selenium.webdriver.chrome.service import Service\n",
    "from selenium.common.exceptions import NoSuchElementException, WebDriverException"
   ]
  },
  {
   "cell_type": "code",
   "execution_count": 14,
   "metadata": {},
   "outputs": [],
   "source": [
    "# Set up Selenium WebDriver\n",
    "chromedriver_path = \"./chromedriver-32.exe\"\n",
    "service = Service(chromedriver_path)\n",
    "\n",
    "# Set the path to the Portable Chrome executable\n",
    "chrome_exe_path = \"./chrome-win32/chrome.exe\"\n",
    "chrome_options = webdriver.ChromeOptions()\n",
    "chrome_options.binary_location = chrome_exe_path\n",
    "# chrome_options.add_argument('--headless')\n",
    "chrome_options.add_argument('--disable-dev-shm-usage')\n",
    "chrome_options.add_argument(\"--blink-settings=imagesEnabled=false\")\n",
    "\n",
    "# Block unnecessary requests\n",
    "chrome_options.add_experimental_option(\"excludeSwitches\", [\"enable-automation\"])\n",
    "chrome_options.add_experimental_option('prefs', {\n",
    "    'profile.managed_default_content_settings.images': 2,  # Disable images\n",
    "    'profile.managed_default_content_settings.stylesheets': 2,  # Disable CSS\n",
    "    # 'profile.managed_default_content_settings.cookies': 2,  # Disable cookies\n",
    "    'profile.managed_default_content_settings.javascript': 2,  # Enable JS\n",
    "    'profile.managed_default_content_settings.plugins': 2,  # Disable plugins\n",
    "    'profile.managed_default_content_settings.popups': 2,  # Disable popups\n",
    "    'profile.managed_default_content_settings.geolocation': 2,  # Disable geolocation\n",
    "    'profile.managed_default_content_settings.notifications': 2,  # Disable notifications\n",
    "    'profile.managed_default_content_settings.media_stream': 2,  # Disable media stream\n",
    "})\n",
    "\n",
    "driver = webdriver.Chrome(options=chrome_options)\n",
    "\n",
    "driver = webdriver.Chrome(service=service, options=chrome_options)"
   ]
  },
  {
   "cell_type": "code",
   "execution_count": 3,
   "metadata": {},
   "outputs": [],
   "source": [
    "start_url = \"https://greentownlabs.com/members/page/1/?hq=houston&cat=all&status=current\""
   ]
  },
  {
   "cell_type": "code",
   "execution_count": 4,
   "metadata": {},
   "outputs": [],
   "source": [
    "driver.get(start_url)\n",
    "time.sleep(3)"
   ]
  },
  {
   "cell_type": "code",
   "execution_count": 5,
   "metadata": {},
   "outputs": [],
   "source": [
    "# Locate the host element\n",
    "shadow_host = driver.find_element(By.CSS_SELECTOR, '#usercentrics-root')\n",
    "\n",
    "# Script to access Shadow Root and find the button\n",
    "script = \"\"\"\n",
    "  return arguments[0].shadowRoot.querySelector('button[data-testid=\"uc-accept-all-button\"]');\n",
    "\"\"\"\n",
    "\n",
    "# Execute script with the host element as argument\n",
    "button_element = driver.execute_script(script, shadow_host)\n",
    "\n",
    "# Interact with the button_element (click on it)\n",
    "button_element.click()\n",
    "\n",
    "time.sleep(5)"
   ]
  },
  {
   "cell_type": "code",
   "execution_count": null,
   "metadata": {},
   "outputs": [],
   "source": [
    "\"//a[contains(@class, 'card') and @rel='bookmark']\"\n",
    "\n",
    "\"//a[@class='next page-numbers']\""
   ]
  },
  {
   "cell_type": "code",
   "execution_count": 6,
   "metadata": {},
   "outputs": [],
   "source": [
    "otherLinks = []\n",
    "otherLinks = [element.get_attribute('href') for element in driver.find_elements(By.XPATH, \"//a[contains(@class, 'card') and @rel='bookmark']\")]"
   ]
  },
  {
   "cell_type": "code",
   "execution_count": 7,
   "metadata": {},
   "outputs": [],
   "source": [
    "# Scroll to the bottom to click the next button.\n",
    "driver.execute_script(\"window.scrollTo(0, document.body.scrollHeight);\")\n",
    "time.sleep(3)"
   ]
  },
  {
   "cell_type": "code",
   "execution_count": 8,
   "metadata": {},
   "outputs": [],
   "source": [
    "while True:\n",
    "    try:\n",
    "        driver.find_element(By.XPATH, \"//a[@class='next page-numbers']\").click()\n",
    "        time.sleep(5)\n",
    "        new_links = [element.get_attribute('href') for element in driver.find_elements(By.XPATH, \"//a[contains(@class, 'card') and @rel='bookmark']\")]\n",
    "        otherLinks.extend(new_links)\n",
    "    except:\n",
    "        break"
   ]
  },
  {
   "cell_type": "code",
   "execution_count": 9,
   "metadata": {},
   "outputs": [
    {
     "data": {
      "text/plain": [
       "82"
      ]
     },
     "execution_count": 9,
     "metadata": {},
     "output_type": "execute_result"
    }
   ],
   "source": [
    "len(otherLinks)"
   ]
  },
  {
   "cell_type": "code",
   "execution_count": 10,
   "metadata": {},
   "outputs": [
    {
     "data": {
      "text/plain": [
       "'https://greentownlabs.com/members/21senses-inc/'"
      ]
     },
     "execution_count": 10,
     "metadata": {},
     "output_type": "execute_result"
    }
   ],
   "source": [
    "# for other_link in otherLinks:\n",
    "other_link = otherLinks[0]\n",
    "other_link"
   ]
  },
  {
   "cell_type": "code",
   "execution_count": 15,
   "metadata": {},
   "outputs": [],
   "source": [
    "driver.get(other_link)\n",
    "time.sleep(3)"
   ]
  },
  {
   "cell_type": "code",
   "execution_count": null,
   "metadata": {},
   "outputs": [],
   "source": [
    "companyName = driver.find_element(By.CSS_SELECTOR, \"h1.entry-title\").text\n",
    "companyName"
   ]
  },
  {
   "cell_type": "code",
   "execution_count": null,
   "metadata": {},
   "outputs": [],
   "source": [
    "companySolution = driver.find_element(By.CSS_SELECTOR, \"h2.entry-subtitle\").text\n",
    "if not companySolution:\n",
    "    companySolution = driver.find_element(By.CSS_SELECTOR, \"div.entry-content > p\").text\n",
    "companySolution"
   ]
  },
  {
   "cell_type": "code",
   "execution_count": null,
   "metadata": {},
   "outputs": [],
   "source": [
    "companyWebsite = driver.find_element(By.XPATH, \"//div[@class = 'notch-content']//a[@class = 'button button-orange']\").get_attribute('href')\n",
    "companyWebsite"
   ]
  },
  {
   "cell_type": "code",
   "execution_count": null,
   "metadata": {},
   "outputs": [],
   "source": [
    "# driver.delete_all_cookies()"
   ]
  },
  {
   "cell_type": "code",
   "execution_count": null,
   "metadata": {},
   "outputs": [],
   "source": [
    "# driver.quit()"
   ]
  }
 ],
 "metadata": {
  "kernelspec": {
   "display_name": ".venv",
   "language": "python",
   "name": "python3"
  },
  "language_info": {
   "codemirror_mode": {
    "name": "ipython",
    "version": 3
   },
   "file_extension": ".py",
   "mimetype": "text/x-python",
   "name": "python",
   "nbconvert_exporter": "python",
   "pygments_lexer": "ipython3",
   "version": "3.12.4"
  }
 },
 "nbformat": 4,
 "nbformat_minor": 2
}
