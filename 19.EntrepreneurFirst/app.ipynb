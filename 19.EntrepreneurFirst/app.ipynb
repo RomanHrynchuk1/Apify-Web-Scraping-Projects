{
 "cells": [
  {
   "cell_type": "code",
   "execution_count": 1,
   "metadata": {},
   "outputs": [
    {
     "data": {
      "text/plain": [
       "'app.ipynb'"
      ]
     },
     "execution_count": 1,
     "metadata": {},
     "output_type": "execute_result"
    }
   ],
   "source": [
    "\"app.ipynb\""
   ]
  },
  {
   "cell_type": "code",
   "execution_count": 2,
   "metadata": {},
   "outputs": [],
   "source": [
    "import time\n",
    "import traceback\n",
    "from selenium import webdriver\n",
    "from selenium.webdriver.common.by import By\n",
    "from selenium.webdriver.chrome.service import Service\n",
    "from selenium.webdriver.common.action_chains import ActionChains\n",
    "from bs4 import BeautifulSoup"
   ]
  },
  {
   "cell_type": "code",
   "execution_count": 3,
   "metadata": {},
   "outputs": [],
   "source": [
    "# Set up Selenium WebDriver\n",
    "chromedriver_path = \"./chromedriver-32.exe\"\n",
    "service = Service(chromedriver_path)\n",
    "\n",
    "# Set the path to the Portable Chrome executable\n",
    "chrome_exe_path = \"./chrome-win32/chrome.exe\"\n",
    "chrome_options = webdriver.ChromeOptions()\n",
    "chrome_options.binary_location = chrome_exe_path\n",
    "# chrome_options.add_argument('--headless')\n",
    "chrome_options.add_argument('--disable-dev-shm-usage')\n",
    "# chrome_options.add_argument(\"--blink-settings=imagesEnabled=false\")\n",
    "\n",
    "driver = webdriver.Chrome(service=service, options=chrome_options)"
   ]
  },
  {
   "cell_type": "code",
   "execution_count": 4,
   "metadata": {},
   "outputs": [],
   "source": [
    "# for start_url in START_URL_LIST:\n",
    "start_url = \"https://www.joinef.com/portfolio/?filter-industry=ar-vr-xr,automotive,b2b,climate-or-environment,computing,electrical-infrastructure,energy,environmental-science,food-agriculture-or-farming,hardware,manufacturing-or-industrial,military-or-defense,robotics-iot,space,supply-chain-transportation-or-logistics,sustainability\""
   ]
  },
  {
   "cell_type": "code",
   "execution_count": 5,
   "metadata": {},
   "outputs": [],
   "source": [
    "driver.get(start_url)\n",
    "time.sleep(3)"
   ]
  },
  {
   "cell_type": "code",
   "execution_count": 6,
   "metadata": {},
   "outputs": [],
   "source": [
    "driver.find_element(By.CSS_SELECTOR, \"button.cky-btn-accept\").click()\n",
    "time.sleep(1)"
   ]
  },
  {
   "cell_type": "code",
   "execution_count": 16,
   "metadata": {},
   "outputs": [],
   "source": [
    "while True:\n",
    "    try:\n",
    "        load_more_button = driver.find_element(By.CSS_SELECTOR, \"a.btn--loadmore\")\n",
    "        load_more_button.click()\n",
    "        time.sleep(3)\n",
    "    except:\n",
    "        break"
   ]
  },
  {
   "cell_type": "code",
   "execution_count": 7,
   "metadata": {},
   "outputs": [
    {
     "data": {
      "text/plain": [
       "24"
      ]
     },
     "execution_count": 7,
     "metadata": {},
     "output_type": "execute_result"
    }
   ],
   "source": [
    "otherLinks = driver.find_elements(By.CSS_SELECTOR, \"div.tile--company--row a.tile__link\")\n",
    "len(otherLinks)"
   ]
  },
  {
   "cell_type": "code",
   "execution_count": 8,
   "metadata": {},
   "outputs": [
    {
     "data": {
      "text/plain": [
       "'https://www.joinef.com/companies/tractable/'"
      ]
     },
     "execution_count": 8,
     "metadata": {},
     "output_type": "execute_result"
    }
   ],
   "source": [
    "# for otherLink in otherLinks:\n",
    "otherLink = otherLinks[1].get_attribute('href')\n",
    "otherLink"
   ]
  },
  {
   "cell_type": "code",
   "execution_count": 9,
   "metadata": {},
   "outputs": [],
   "source": [
    "driver.get(otherLink)\n",
    "time.sleep(0.3)"
   ]
  },
  {
   "cell_type": "code",
   "execution_count": 10,
   "metadata": {},
   "outputs": [
    {
     "data": {
      "text/plain": [
       "'TRACTABLE'"
      ]
     },
     "execution_count": 10,
     "metadata": {},
     "output_type": "execute_result"
    }
   ],
   "source": [
    "companyName = driver.find_element(By.CSS_SELECTOR, \"h1.pageheader__heading\").text.strip()\n",
    "companyName"
   ]
  },
  {
   "cell_type": "code",
   "execution_count": 21,
   "metadata": {},
   "outputs": [
    {
     "data": {
      "text/plain": [
       "'La Vie specializes in the production of plant-based alternatives to traditionally pork-based products such as bacon and ham. La Vie owns a unique patented recipe which reproduces the pleasure of meat without resorting to animals.'"
      ]
     },
     "execution_count": 21,
     "metadata": {},
     "output_type": "execute_result"
    }
   ],
   "source": [
    "companySolution = driver.find_element(By.CSS_SELECTOR, \"div.company__longbio\").text.strip()\n",
    "companySolution"
   ]
  },
  {
   "cell_type": "code",
   "execution_count": 22,
   "metadata": {},
   "outputs": [
    {
     "data": {
      "text/plain": [
       "'https://www.laviefoods.com/en/'"
      ]
     },
     "execution_count": 22,
     "metadata": {},
     "output_type": "execute_result"
    }
   ],
   "source": [
    "companyWebsite = driver.find_element(By.CSS_SELECTOR, \"a.pageheader__websitebtn\").get_attribute('href')\n",
    "companyWebsite"
   ]
  },
  {
   "cell_type": "code",
   "execution_count": 23,
   "metadata": {},
   "outputs": [],
   "source": [
    "driver.quit()"
   ]
  }
 ],
 "metadata": {
  "kernelspec": {
   "display_name": ".venv",
   "language": "python",
   "name": "python3"
  },
  "language_info": {
   "codemirror_mode": {
    "name": "ipython",
    "version": 3
   },
   "file_extension": ".py",
   "mimetype": "text/x-python",
   "name": "python",
   "nbconvert_exporter": "python",
   "pygments_lexer": "ipython3",
   "version": "3.12.4"
  }
 },
 "nbformat": 4,
 "nbformat_minor": 2
}
