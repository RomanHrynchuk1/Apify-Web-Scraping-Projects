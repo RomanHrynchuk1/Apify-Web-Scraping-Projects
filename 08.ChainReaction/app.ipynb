{
 "cells": [
  {
   "cell_type": "code",
   "execution_count": 1,
   "metadata": {},
   "outputs": [
    {
     "data": {
      "text/plain": [
       "'app.ipynb'"
      ]
     },
     "execution_count": 1,
     "metadata": {},
     "output_type": "execute_result"
    }
   ],
   "source": [
    "\"app.ipynb\""
   ]
  },
  {
   "cell_type": "code",
   "execution_count": 2,
   "metadata": {},
   "outputs": [],
   "source": [
    "import time\n",
    "from selenium import webdriver\n",
    "from selenium.webdriver.common.by import By\n",
    "from selenium.webdriver.chrome.service import Service\n",
    "from selenium.common.exceptions import NoSuchElementException, WebDriverException"
   ]
  },
  {
   "cell_type": "code",
   "execution_count": 3,
   "metadata": {},
   "outputs": [],
   "source": [
    "from urllib.parse import urlparse\n",
    "\n",
    "def has_same_domain(url, base_url):\n",
    "    \"\"\"\n",
    "    This function checks if two URLs have the same domain name.\n",
    "    \"\"\"\n",
    "    url_parsed = urlparse(url)\n",
    "    base_parsed = urlparse(base_url)\n",
    "    return url_parsed.netloc == base_parsed.netloc"
   ]
  },
  {
   "cell_type": "code",
   "execution_count": 4,
   "metadata": {},
   "outputs": [],
   "source": [
    "# Set up Selenium WebDriver\n",
    "chromedriver_path = \"./chromedriver-32.exe\"\n",
    "service = Service(chromedriver_path)\n",
    "\n",
    "# Set the path to the Portable Chrome executable\n",
    "chrome_exe_path = \"./chrome-win32/chrome.exe\"\n",
    "chrome_options = webdriver.ChromeOptions()\n",
    "chrome_options.binary_location = chrome_exe_path\n",
    "chrome_options.add_argument('--headless')\n",
    "chrome_options.add_argument('--disable-dev-shm-usage')\n",
    "chrome_options.add_argument(\"--blink-settings=imagesEnabled=false\")\n",
    "\n",
    "driver = webdriver.Chrome(options=chrome_options)\n",
    "\n",
    "driver = webdriver.Chrome(service=service, options=chrome_options)"
   ]
  },
  {
   "cell_type": "code",
   "execution_count": 5,
   "metadata": {},
   "outputs": [],
   "source": [
    "# for start_url in START_URL_LIST:\n",
    "start_url = \"https://chainreaction.anl.gov/innovators/\""
   ]
  },
  {
   "cell_type": "code",
   "execution_count": 6,
   "metadata": {},
   "outputs": [],
   "source": [
    "driver.get(start_url)\n",
    "time.sleep(3)"
   ]
  },
  {
   "cell_type": "code",
   "execution_count": 7,
   "metadata": {},
   "outputs": [
    {
     "data": {
      "text/plain": [
       "61"
      ]
     },
     "execution_count": 7,
     "metadata": {},
     "output_type": "execute_result"
    }
   ],
   "source": [
    "other_link_s = driver.find_elements(By.CSS_SELECTOR, \"section.landing-section article div.feature-block p a\")\n",
    "len(other_link_s)"
   ]
  },
  {
   "cell_type": "code",
   "execution_count": 8,
   "metadata": {},
   "outputs": [],
   "source": [
    "otherLinks = [url.get_attribute('href') for url in other_link_s if has_same_domain(url.get_attribute('href'), start_url)]"
   ]
  },
  {
   "cell_type": "code",
   "execution_count": 34,
   "metadata": {},
   "outputs": [],
   "source": [
    "# for otherLink in otherLinks:\n",
    "otherLink = otherLinks[23]"
   ]
  },
  {
   "cell_type": "code",
   "execution_count": 35,
   "metadata": {},
   "outputs": [],
   "source": [
    "driver.get(otherLink)\n",
    "time.sleep(0.3)"
   ]
  },
  {
   "cell_type": "code",
   "execution_count": 36,
   "metadata": {},
   "outputs": [
    {
     "data": {
      "text/plain": [
       "''"
      ]
     },
     "execution_count": 36,
     "metadata": {},
     "output_type": "execute_result"
    }
   ],
   "source": [
    "companyName1_list = driver.find_elements(By.XPATH, \"//h3[contains(@class, 'widget-title')]\")\n",
    "companyName1 = companyName1_list[0].text.strip() if companyName1_list else \"\"\n",
    "companyName1"
   ]
  },
  {
   "cell_type": "code",
   "execution_count": 37,
   "metadata": {},
   "outputs": [
    {
     "data": {
      "text/plain": [
       "'Numix Materials'"
      ]
     },
     "execution_count": 37,
     "metadata": {},
     "output_type": "execute_result"
    }
   ],
   "source": [
    "companyName2_list = driver.find_elements(By.XPATH, \"//*[contains(@class, 'textwidget')]//img\")\n",
    "companyName2 = companyName2_list[0].get_attribute(\"alt\").replace(\"logo of \", \"\").replace(\"Logo of \", \"\") if companyName2_list else \"\"\n",
    "companyName2"
   ]
  },
  {
   "cell_type": "code",
   "execution_count": 38,
   "metadata": {},
   "outputs": [
    {
     "data": {
      "text/plain": [
       "''"
      ]
     },
     "execution_count": 38,
     "metadata": {},
     "output_type": "execute_result"
    }
   ],
   "source": [
    "companyName3_list = driver.find_elements(By.XPATH, \"//*[contains(@class, 'textwidget')]//a\")\n",
    "companyName3 = companyName3_list[0].get_attribute(\"title\").replace(\"go to \", \"\").replace(\"Go to \", \"\") if companyName3_list else \"\"\n",
    "companyName3"
   ]
  },
  {
   "cell_type": "code",
   "execution_count": 39,
   "metadata": {},
   "outputs": [
    {
     "data": {
      "text/plain": [
       "'Numix Materials'"
      ]
     },
     "execution_count": 39,
     "metadata": {},
     "output_type": "execute_result"
    }
   ],
   "source": [
    "companyName = companyName1 or companyName2 or companyName3\n",
    "companyName"
   ]
  },
  {
   "cell_type": "code",
   "execution_count": 40,
   "metadata": {},
   "outputs": [
    {
     "data": {
      "text/plain": [
       "'NUMiX Materials develops, produces, and deploys efficient, geomimetic materials for harvesting critical metals from nontraditional sources. Its products and process recover salable metals while purifying water, eliminating contamination, and reducing water treatment waste.'"
      ]
     },
     "execution_count": 40,
     "metadata": {},
     "output_type": "execute_result"
    }
   ],
   "source": [
    "companySolution_list = driver.find_elements(By.XPATH, \"//*[contains(@class, 'general-deck')]\")\n",
    "companySolution = companySolution_list[0].text.strip() if companySolution_list else \"N/A\"\n",
    "companySolution"
   ]
  },
  {
   "cell_type": "code",
   "execution_count": 41,
   "metadata": {},
   "outputs": [
    {
     "data": {
      "text/plain": [
       "'http://www.numixmaterials.com/'"
      ]
     },
     "execution_count": 41,
     "metadata": {},
     "output_type": "execute_result"
    }
   ],
   "source": [
    "companyWebsite_list = driver.find_elements(By.CSS_SELECTOR, \".textwidget ul li a[href*='http']\")\n",
    "companyWebsite = \"\"\n",
    "for website in companyWebsite_list:\n",
    "    if website.text.strip().lower() == \"website\":\n",
    "        companyWebsite = website.get_attribute(\"href\")\n",
    "        # break\n",
    "companyWebsite"
   ]
  },
  {
   "cell_type": "code",
   "execution_count": 42,
   "metadata": {},
   "outputs": [],
   "source": [
    "companyName = companyName or companyWebsite or \"N/A\"\n",
    "companyWebsite = companyWebsite or \"#\""
   ]
  },
  {
   "cell_type": "code",
   "execution_count": 43,
   "metadata": {},
   "outputs": [
    {
     "data": {
      "text/plain": [
       "('Numix Materials',\n",
       " 'NUMiX Materials develops, produces, and deploys efficient, geomimetic materials for harvesting critical metals from nontraditional sources. Its products and process recover salable metals while purifying water, eliminating contamination, and reducing water treatment waste.',\n",
       " 'http://www.numixmaterials.com/',\n",
       " 'https://chainreaction.anl.gov/projects/water-treatment-sorbents/')"
      ]
     },
     "execution_count": 43,
     "metadata": {},
     "output_type": "execute_result"
    }
   ],
   "source": [
    "(companyName, companySolution, companyWebsite, otherLink)"
   ]
  }
 ],
 "metadata": {
  "kernelspec": {
   "display_name": ".venv",
   "language": "python",
   "name": "python3"
  },
  "language_info": {
   "codemirror_mode": {
    "name": "ipython",
    "version": 3
   },
   "file_extension": ".py",
   "mimetype": "text/x-python",
   "name": "python",
   "nbconvert_exporter": "python",
   "pygments_lexer": "ipython3",
   "version": "3.12.4"
  }
 },
 "nbformat": 4,
 "nbformat_minor": 2
}
