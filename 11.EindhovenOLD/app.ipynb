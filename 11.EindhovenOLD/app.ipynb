{
 "cells": [
  {
   "cell_type": "code",
   "execution_count": 1,
   "metadata": {},
   "outputs": [
    {
     "data": {
      "text/plain": [
       "'app.ipynb'"
      ]
     },
     "execution_count": 1,
     "metadata": {},
     "output_type": "execute_result"
    }
   ],
   "source": [
    "\"app.ipynb\""
   ]
  },
  {
   "cell_type": "code",
   "execution_count": 2,
   "metadata": {},
   "outputs": [],
   "source": [
    "import time\n",
    "import traceback\n",
    "from selenium import webdriver\n",
    "from selenium.webdriver.common.by import By\n",
    "from selenium.webdriver.chrome.service import Service\n",
    "from selenium.webdriver.common.action_chains import ActionChains"
   ]
  },
  {
   "cell_type": "code",
   "execution_count": 3,
   "metadata": {},
   "outputs": [],
   "source": [
    "# Set up Selenium WebDriver\n",
    "chromedriver_path = \"./chromedriver-32.exe\"\n",
    "service = Service(chromedriver_path)\n",
    "\n",
    "# Set the path to the Portable Chrome executable\n",
    "chrome_exe_path = \"./chrome-win32/chrome.exe\"\n",
    "chrome_options = webdriver.ChromeOptions()\n",
    "chrome_options.binary_location = chrome_exe_path\n",
    "# chrome_options.add_argument('--headless')\n",
    "chrome_options.add_argument('--disable-dev-shm-usage')\n",
    "chrome_options.add_argument(\"--blink-settings=imagesEnabled=false\")\n",
    "\n",
    "driver = webdriver.Chrome(service=service, options=chrome_options)"
   ]
  },
  {
   "cell_type": "code",
   "execution_count": 4,
   "metadata": {},
   "outputs": [],
   "source": [
    "# for start_url in START_URL_LIST:\n",
    "start_url = \"https://www.hightechcampus.com/companies?category=4\""
   ]
  },
  {
   "cell_type": "code",
   "execution_count": 5,
   "metadata": {},
   "outputs": [],
   "source": [
    "driver.get(start_url)\n",
    "time.sleep(3)"
   ]
  },
  {
   "cell_type": "code",
   "execution_count": 6,
   "metadata": {},
   "outputs": [],
   "source": [
    "try:\n",
    "    driver.find_element(By.CSS_SELECTOR, \"button#CybotCookiebotDialogBodyLevelButtonLevelOptinAllowAll\").click()\n",
    "    time.sleep(3)\n",
    "except:\n",
    "    pass"
   ]
  },
  {
   "cell_type": "code",
   "execution_count": 7,
   "metadata": {},
   "outputs": [
    {
     "data": {
      "text/plain": [
       "<selenium.webdriver.remote.webelement.WebElement (session=\"3ca66a9462f0a18d243fa0c018d16979\", element=\"1BC8FEFF77D8508FED43C0E4396BD62F_element_3\")>"
      ]
     },
     "execution_count": 7,
     "metadata": {},
     "output_type": "execute_result"
    }
   ],
   "source": [
    "down_arrow = driver.find_element(By.CSS_SELECTOR, \"svg.arrows\")\n",
    "down_arrow"
   ]
  },
  {
   "cell_type": "code",
   "execution_count": 8,
   "metadata": {},
   "outputs": [],
   "source": [
    "down_arrow.click()\n",
    "time.sleep(1)"
   ]
  },
  {
   "cell_type": "code",
   "execution_count": 9,
   "metadata": {},
   "outputs": [],
   "source": [
    "otherLinks = []"
   ]
  },
  {
   "cell_type": "code",
   "execution_count": 10,
   "metadata": {},
   "outputs": [
    {
     "name": "stdout",
     "output_type": "stream",
     "text": [
      "Traceback (most recent call last):\n",
      "  File \"C:\\Users\\Administrator\\AppData\\Local\\Temp\\ipykernel_80352\\2183758569.py\", line 7, in <module>\n",
      "    next_button = driver.find_element(By.CSS_SELECTOR, \"a.page-link[rel='next']\")\n",
      "                  ^^^^^^^^^^^^^^^^^^^^^^^^^^^^^^^^^^^^^^^^^^^^^^^^^^^^^^^^^^^^^^^\n",
      "  File \"d:\\WorkPlace2\\JasonWhaley\\11.EindhovenOLD\\.venv\\Lib\\site-packages\\selenium\\webdriver\\remote\\webdriver.py\", line 748, in find_element\n",
      "    return self.execute(Command.FIND_ELEMENT, {\"using\": by, \"value\": value})[\"value\"]\n",
      "           ^^^^^^^^^^^^^^^^^^^^^^^^^^^^^^^^^^^^^^^^^^^^^^^^^^^^^^^^^^^^^^^^^\n",
      "  File \"d:\\WorkPlace2\\JasonWhaley\\11.EindhovenOLD\\.venv\\Lib\\site-packages\\selenium\\webdriver\\remote\\webdriver.py\", line 354, in execute\n",
      "    self.error_handler.check_response(response)\n",
      "  File \"d:\\WorkPlace2\\JasonWhaley\\11.EindhovenOLD\\.venv\\Lib\\site-packages\\selenium\\webdriver\\remote\\errorhandler.py\", line 229, in check_response\n",
      "    raise exception_class(message, screen, stacktrace)\n",
      "selenium.common.exceptions.NoSuchElementException: Message: no such element: Unable to locate element: {\"method\":\"css selector\",\"selector\":\"a.page-link[rel='next']\"}\n",
      "  (Session info: chrome=119.0.6045.105); For documentation on this error, please visit: https://www.selenium.dev/documentation/webdriver/troubleshooting/errors#no-such-element-exception\n",
      "Stacktrace:\n",
      "\tGetHandleVerifier [0x01117ED3+47363]\n",
      "\t(No symbol) [0x010A2E41]\n",
      "\t(No symbol) [0x00F98CAD]\n",
      "\t(No symbol) [0x00FCC050]\n",
      "\t(No symbol) [0x00FCC51B]\n",
      "\t(No symbol) [0x00FFD832]\n",
      "\t(No symbol) [0x00FE8724]\n",
      "\t(No symbol) [0x00FFBDE2]\n",
      "\t(No symbol) [0x00FE84D6]\n",
      "\t(No symbol) [0x00FC38EF]\n",
      "\t(No symbol) [0x00FC4A9D]\n",
      "\tGetHandleVerifier [0x0141E3C6+3218934]\n",
      "\tGetHandleVerifier [0x014660B8+3513064]\n",
      "\tGetHandleVerifier [0x0145FDCC+3487740]\n",
      "\tGetHandleVerifier [0x011A22C0+613616]\n",
      "\t(No symbol) [0x010ACD6C]\n",
      "\t(No symbol) [0x010A8E98]\n",
      "\t(No symbol) [0x010A8FBD]\n",
      "\t(No symbol) [0x0109B527]\n",
      "\tBaseThreadInitThunk [0x752FFCC9+25]\n",
      "\tRtlGetAppContainerNamedObjectPath [0x774980CE+286]\n",
      "\tRtlGetAppContainerNamedObjectPath [0x7749809E+238]\n",
      "\n",
      "\n"
     ]
    },
    {
     "data": {
      "text/plain": [
       "['https://www.hightechcampus.com/companies/act-right',\n",
       " 'https://www.hightechcampus.com/companies/active-medical',\n",
       " 'https://www.hightechcampus.com/companies/airbliss',\n",
       " 'https://www.hightechcampus.com/companies/aircision',\n",
       " 'https://www.hightechcampus.com/companies/alltrons',\n",
       " 'https://www.hightechcampus.com/companies/alphabeats',\n",
       " 'https://www.hightechcampus.com/companies/amsystems',\n",
       " 'https://www.hightechcampus.com/companies/antenna-company',\n",
       " 'https://www.hightechcampus.com/companies/astrape-networks',\n",
       " 'https://www.hightechcampus.com/companies/autoscriber',\n",
       " 'https://www.hightechcampus.com/companies/avoxt',\n",
       " 'https://www.hightechcampus.com/companies/axelera',\n",
       " 'https://www.hightechcampus.com/companies/axxem',\n",
       " 'https://www.hightechcampus.com/companies/bambi-medical',\n",
       " 'https://www.hightechcampus.com/companies/beeliners',\n",
       " 'https://www.hightechcampus.com/companies/bloomlife',\n",
       " 'https://www.hightechcampus.com/companies/byflow',\n",
       " 'https://www.hightechcampus.com/companies/chromodynamics',\n",
       " 'https://www.hightechcampus.com/companies/classified-cycling',\n",
       " 'https://www.hightechcampus.com/companies/compen',\n",
       " 'https://www.hightechcampus.com/companies/cosmicnode',\n",
       " 'https://www.hightechcampus.com/companies/cyber4z',\n",
       " 'https://www.hightechcampus.com/companies/cynergy-consulting',\n",
       " 'https://www.hightechcampus.com/companies/datacation',\n",
       " 'https://www.hightechcampus.com/companies/dxrs',\n",
       " 'https://www.hightechcampus.com/companies/eit-digital',\n",
       " 'https://www.hightechcampus.com/companies/eliyan',\n",
       " 'https://www.hightechcampus.com/companies/emultech',\n",
       " 'https://www.hightechcampus.com/companies/eqtoniq',\n",
       " 'https://www.hightechcampus.com/companies/etulipa',\n",
       " 'https://www.hightechcampus.com/companies/euonia-lighting-company',\n",
       " 'https://www.hightechcampus.com/companies/fidds-ux',\n",
       " 'https://www.hightechcampus.com/companies/fortanix',\n",
       " 'https://www.hightechcampus.com/companies/fruitpunch-ai',\n",
       " 'https://www.hightechcampus.com/companies/grai-matter-labs',\n",
       " 'https://www.hightechcampus.com/companies/hand',\n",
       " 'https://www.hightechcampus.com/companies/hearing-aid-advice-center',\n",
       " 'https://www.hightechcampus.com/companies/high-tech-source',\n",
       " 'https://www.hightechcampus.com/companies/hightechxl',\n",
       " 'https://www.hightechcampus.com/companies/i-smrt',\n",
       " 'https://www.hightechcampus.com/companies/incooling',\n",
       " 'https://www.hightechcampus.com/companies/infiniot',\n",
       " 'https://www.hightechcampus.com/companies/inner',\n",
       " 'https://www.hightechcampus.com/companies/innosign',\n",
       " 'https://www.hightechcampus.com/companies/inphocal',\n",
       " 'https://www.hightechcampus.com/companies/ipsumio',\n",
       " 'https://www.hightechcampus.com/companies/keiron',\n",
       " 'https://www.hightechcampus.com/companies/kipkep',\n",
       " 'https://www.hightechcampus.com/companies/kontur',\n",
       " 'https://www.hightechcampus.com/companies/lake3d',\n",
       " 'https://www.hightechcampus.com/companies/lifesense-group',\n",
       " 'https://www.hightechcampus.com/companies/lionvolt',\n",
       " 'https://www.hightechcampus.com/companies/lumo-labs',\n",
       " 'https://www.hightechcampus.com/companies/magnus-and-weiss',\n",
       " 'https://www.hightechcampus.com/companies/mantispectra',\n",
       " 'https://www.hightechcampus.com/companies/merlicon',\n",
       " 'https://www.hightechcampus.com/companies/mindyourpass',\n",
       " 'https://www.hightechcampus.com/companies/miramap',\n",
       " 'https://www.hightechcampus.com/companies/mobyyou',\n",
       " 'https://www.hightechcampus.com/companies/montes-jura-medical-technologies',\n",
       " 'https://www.hightechcampus.com/companies/motify',\n",
       " 'https://www.hightechcampus.com/companies/nearfield-instruments',\n",
       " 'https://www.hightechcampus.com/companies/nerium',\n",
       " 'https://www.hightechcampus.com/companies/noosware',\n",
       " 'https://www.hightechcampus.com/companies/offilancer',\n",
       " 'https://www.hightechcampus.com/companies/perpetum',\n",
       " 'https://www.hightechcampus.com/companies/pharmi',\n",
       " 'https://www.hightechcampus.com/companies/phlecs',\n",
       " 'https://www.hightechcampus.com/companies/plasmacure',\n",
       " 'https://www.hightechcampus.com/companies/pluscloud',\n",
       " 'https://www.hightechcampus.com/companies/pna-group',\n",
       " 'https://www.hightechcampus.com/companies/procontext',\n",
       " 'https://www.hightechcampus.com/companies/resleeve',\n",
       " 'https://www.hightechcampus.com/companies/salvia-bioelectronics',\n",
       " 'https://www.hightechcampus.com/companies/sandgrain',\n",
       " 'https://www.hightechcampus.com/companies/scil',\n",
       " 'https://www.hightechcampus.com/companies/senergetics',\n",
       " 'https://www.hightechcampus.com/companies/sensorfy',\n",
       " 'https://www.hightechcampus.com/companies/silicon-integrated',\n",
       " 'https://www.hightechcampus.com/companies/sirius-medical',\n",
       " 'https://www.hightechcampus.com/companies/sita-robotics',\n",
       " 'https://www.hightechcampus.com/companies/skills-intelligence',\n",
       " 'https://www.hightechcampus.com/companies/smart-photonics',\n",
       " 'https://www.hightechcampus.com/companies/smartir',\n",
       " 'https://www.hightechcampus.com/companies/source-engineering-services',\n",
       " 'https://www.hightechcampus.com/companies/sparckel',\n",
       " 'https://www.hightechcampus.com/companies/stactics',\n",
       " 'https://www.hightechcampus.com/companies/stentit',\n",
       " 'https://www.hightechcampus.com/companies/supertask',\n",
       " 'https://www.hightechcampus.com/companies/technospark-group',\n",
       " 'https://www.hightechcampus.com/companies/tectonic-3d',\n",
       " 'https://www.hightechcampus.com/companies/thelookingglass',\n",
       " 'https://www.hightechcampus.com/companies/TOAST',\n",
       " 'https://www.hightechcampus.com/companies/touch-biometrix',\n",
       " 'https://www.hightechcampus.com/companies/touchwind',\n",
       " 'https://www.hightechcampus.com/companies/unitial-technologies',\n",
       " 'https://www.hightechcampus.com/companies/usono',\n",
       " 'https://www.hightechcampus.com/companies/vention',\n",
       " 'https://www.hightechcampus.com/companies/veridis',\n",
       " 'https://www.hightechcampus.com/companies/vitalfluid',\n",
       " 'https://www.hightechcampus.com/companies/volcycle',\n",
       " 'https://www.hightechcampus.com/companies/Voltgoed',\n",
       " 'https://www.hightechcampus.com/companies/vrinschool',\n",
       " 'https://www.hightechcampus.com/companies/watchmen',\n",
       " 'https://www.hightechcampus.com/companies/web-n-tech',\n",
       " 'https://www.hightechcampus.com/companies/wenet',\n",
       " 'https://www.hightechcampus.com/companies/whitehats',\n",
       " 'https://www.hightechcampus.com/companies/worklogix',\n",
       " 'https://www.hightechcampus.com/companies/zens']"
      ]
     },
     "execution_count": 10,
     "metadata": {},
     "output_type": "execute_result"
    }
   ],
   "source": [
    "while True:\n",
    "    new_link_elements = driver.find_elements(By.CSS_SELECTOR, \"section.companies>div.container>div.reveal-item>div>a\")\n",
    "    for element in new_link_elements:\n",
    "        otherLinks.append(element.get_attribute(\"href\"))\n",
    "\n",
    "    try:\n",
    "        next_button = driver.find_element(By.CSS_SELECTOR, \"a.page-link[rel='next']\")\n",
    "        if not next_button.is_displayed():\n",
    "            actions = ActionChains(driver)\n",
    "            actions.scroll_to_element(next_button).perform()\n",
    "            time.sleep(0.3)\n",
    "        next_button.click()\n",
    "        time.sleep(3)\n",
    "    except Exception as ex:\n",
    "        print(traceback.format_exc())\n",
    "        break\n",
    "    \n",
    "otherLinks"
   ]
  },
  {
   "cell_type": "code",
   "execution_count": 11,
   "metadata": {},
   "outputs": [
    {
     "data": {
      "text/plain": [
       "109"
      ]
     },
     "execution_count": 11,
     "metadata": {},
     "output_type": "execute_result"
    }
   ],
   "source": [
    "len(otherLinks)"
   ]
  },
  {
   "cell_type": "code",
   "execution_count": 12,
   "metadata": {},
   "outputs": [],
   "source": [
    "otherLink = otherLinks[0]"
   ]
  },
  {
   "cell_type": "code",
   "execution_count": 17,
   "metadata": {},
   "outputs": [],
   "source": [
    "driver.get(otherLink)\n",
    "time.sleep(0.3)"
   ]
  },
  {
   "cell_type": "code",
   "execution_count": 18,
   "metadata": {},
   "outputs": [
    {
     "data": {
      "text/plain": [
       "'Act Right'"
      ]
     },
     "execution_count": 18,
     "metadata": {},
     "output_type": "execute_result"
    }
   ],
   "source": [
    "companyName = driver.find_element(By.CSS_SELECTOR, \"h4.green\").text.strip()\n",
    "companyName"
   ]
  },
  {
   "cell_type": "code",
   "execution_count": 19,
   "metadata": {},
   "outputs": [
    {
     "data": {
      "text/plain": [
       "'Why Act Right: Climate change, earthquakes in Groningen, air pollution, they are major sustainability challenges which we face in the Netherlands and have to deal with. How nice would it be to enter these assignments jointly with governments, businesses and citizens. Why is it not possible to spontaneously achieve that togetherness to let it come? This is partly due to differences in interests and context and the lack of a supported approach. Act Right creates with strategic partners and local stakeholders partnerships. Of common interests and goals, we create the realization power to achieve these to accomplish tasks.'"
      ]
     },
     "execution_count": 19,
     "metadata": {},
     "output_type": "execute_result"
    }
   ],
   "source": [
    "companySolution = driver.find_element(By.CSS_SELECTOR, \"div.text\").text.strip()\n",
    "companySolution"
   ]
  },
  {
   "cell_type": "code",
   "execution_count": 20,
   "metadata": {},
   "outputs": [
    {
     "data": {
      "text/plain": [
       "'https://actright.nl/'"
      ]
     },
     "execution_count": 20,
     "metadata": {},
     "output_type": "execute_result"
    }
   ],
   "source": [
    "companyWebsite = driver.find_element(By.CSS_SELECTOR, \"div.item--block a.button__standard\").get_attribute(\"href\")\n",
    "companyWebsite"
   ]
  },
  {
   "cell_type": "code",
   "execution_count": null,
   "metadata": {},
   "outputs": [],
   "source": [
    "driver.delete_all_cookies()\n",
    "driver.quit()"
   ]
  }
 ],
 "metadata": {
  "kernelspec": {
   "display_name": ".venv",
   "language": "python",
   "name": "python3"
  },
  "language_info": {
   "codemirror_mode": {
    "name": "ipython",
    "version": 3
   },
   "file_extension": ".py",
   "mimetype": "text/x-python",
   "name": "python",
   "nbconvert_exporter": "python",
   "pygments_lexer": "ipython3",
   "version": "3.12.4"
  }
 },
 "nbformat": 4,
 "nbformat_minor": 2
}
